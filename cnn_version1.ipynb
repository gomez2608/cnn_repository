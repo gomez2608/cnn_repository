{
 "cells": [
  {
   "cell_type": "code",
   "execution_count": null,
   "metadata": {},
   "outputs": [],
   "source": []
  }
 ],
 "metadata": {
  "kernelspec": {
   "display_name": "Python 3",
   "language": "python",
   "name": "python3"
  },
  "language_info": {
   "name": "python",
   "version": "3.8.10"
  },
  "orig_nbformat": 4,
  "vscode": {
   "interpreter": {
    "hash": "a703c4b7f2d25ea9c6362024cb76932b72fd9d2045e2b2047af05fe878ae0aa0"
   }
  }
 },
 "nbformat": 4,
 "nbformat_minor": 2
}
