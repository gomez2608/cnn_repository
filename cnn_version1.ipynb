{
 "cells": [
  {
   "attachments": {},
   "cell_type": "markdown",
   "metadata": {},
   "source": [
    "<h1>Project: a CNN to Histopathologic Cancer Detection</h1>\n",
    "<p><b>Author:</b> Sebastian Gomez Ahumada</p>"
   ]
  },
  {
   "attachments": {},
   "cell_type": "markdown",
   "metadata": {},
   "source": [
    "<p> AI allows users to improve actual diagnosis systems in all the fields of knowledge; cancer detection is one of the most complex tasks and it can lead to misdiagnosis of many patients due to medical error. However, the improvement of the identification of cancer through AI allows doctors to take better decisions and give better treatments to their patients. In consequence, the accuracy and precision of the AI algorithm is a critical factor in the diagnosis due to the fact that human lifes are relying on an algorithm.</p>\n",
    "<p> In this project, I propose a CNN approach to detect cancer based on kaggle Mini-Project <b>Histopathologic Cancer Detection</b> to identify metastatic tissue in histopathologic scans of lymph node sections.</p>"
   ]
  },
  {
   "attachments": {},
   "cell_type": "markdown",
   "metadata": {},
   "source": [
    "<h2>Database:</h2>"
   ]
  }
 ],
 "metadata": {
  "kernelspec": {
   "display_name": "Python 3",
   "language": "python",
   "name": "python3"
  },
  "language_info": {
   "name": "python",
   "version": "3.8.10"
  },
  "orig_nbformat": 4,
  "vscode": {
   "interpreter": {
    "hash": "a703c4b7f2d25ea9c6362024cb76932b72fd9d2045e2b2047af05fe878ae0aa0"
   }
  }
 },
 "nbformat": 4,
 "nbformat_minor": 2
}
